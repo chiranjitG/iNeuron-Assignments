{
 "cells": [
  {
   "cell_type": "code",
   "execution_count": 11,
   "metadata": {},
   "outputs": [],
   "source": [
    "class triangle:\n",
    "    def __init__(self, a, b, c):\n",
    "        self.a = a\n",
    "        self.b = b\n",
    "        self.c = c\n",
    "        \n",
    "class sub_triangle(triangle):\n",
    "    def __init__(self, *args):\n",
    "        super(sub_triangle, self).__init__(*args)\n",
    "    def calculate_area(self):\n",
    "        s = (self.a + self.b + self.c)/2\n",
    "        area = (s*(s-self.a)*(s-self.b)*(s-self.c)) ** 0.5\n",
    "        print(\"The area of the triangle is: {}\".format(area))"
   ]
  },
  {
   "cell_type": "code",
   "execution_count": 13,
   "metadata": {},
   "outputs": [
    {
     "name": "stdout",
     "output_type": "stream",
     "text": [
      "The area of the triangle is: 10.825317547305483\n"
     ]
    }
   ],
   "source": [
    "t1 = sub_triangle(5,5,5)\n",
    "t1.calculate_area()"
   ]
  },
  {
   "cell_type": "code",
   "execution_count": 17,
   "metadata": {},
   "outputs": [
    {
     "data": {
      "text/plain": [
       "['hello', 'zebra', 'Giraffe']"
      ]
     },
     "execution_count": 17,
     "metadata": {},
     "output_type": "execute_result"
    }
   ],
   "source": [
    "def filter_long_words(l, n):\n",
    "    return [x for x in l if len(x)>n]\n",
    "\n",
    "filter_long_words(['hello', 'cow', 'ox', 'zebra', 'lion', 'Giraffe'], 4)"
   ]
  },
  {
   "cell_type": "code",
   "execution_count": 21,
   "metadata": {},
   "outputs": [
    {
     "data": {
      "text/plain": [
       "[5, 3, 2, 5, 4, 7]"
      ]
     },
     "execution_count": 21,
     "metadata": {},
     "output_type": "execute_result"
    }
   ],
   "source": [
    "def find_length_Of_list_elements(l):\n",
    "    return map(lambda x: len(x), l)\n",
    "\n",
    "list(find_length_Of_list_elements(['hello', 'cow', 'ox', 'zebra', 'lion', 'Giraffe']))"
   ]
  },
  {
   "cell_type": "code",
   "execution_count": 22,
   "metadata": {},
   "outputs": [
    {
     "data": {
      "text/plain": [
       "[5, 3, 2, 5, 4, 7]"
      ]
     },
     "execution_count": 22,
     "metadata": {},
     "output_type": "execute_result"
    }
   ],
   "source": [
    "def find_length_Of_list_elements(l):\n",
    "    return [len(x) for x in l]\n",
    "\n",
    "find_length_Of_list_elements(['hello', 'cow', 'ox', 'zebra', 'lion', 'Giraffe'])"
   ]
  },
  {
   "cell_type": "code",
   "execution_count": 31,
   "metadata": {},
   "outputs": [
    {
     "name": "stdout",
     "output_type": "stream",
     "text": [
      "True\n",
      "True\n",
      "True\n",
      "True\n",
      "False\n",
      "False\n",
      "False\n",
      "False\n"
     ]
    }
   ],
   "source": [
    "def check_vowel(c):\n",
    "    if type(c) == str and len(c) == 1:\n",
    "        return c.upper() in ['A','E','I','O','U']\n",
    "    else:\n",
    "        return False\n",
    "\n",
    "print(check_vowel('a'))\n",
    "print(check_vowel('U'))\n",
    "print(check_vowel('o'))\n",
    "print(check_vowel('E'))\n",
    "print(check_vowel('x'))\n",
    "print(check_vowel('y'))\n",
    "print(check_vowel('abhdub'))\n",
    "print(check_vowel(12+2j))"
   ]
  }
 ],
 "metadata": {
  "kernelspec": {
   "display_name": "Python 3",
   "language": "python",
   "name": "python3"
  },
  "language_info": {
   "codemirror_mode": {
    "name": "ipython",
    "version": 3
   },
   "file_extension": ".py",
   "mimetype": "text/x-python",
   "name": "python",
   "nbconvert_exporter": "python",
   "pygments_lexer": "ipython3",
   "version": "3.7.6"
  }
 },
 "nbformat": 4,
 "nbformat_minor": 4
}
